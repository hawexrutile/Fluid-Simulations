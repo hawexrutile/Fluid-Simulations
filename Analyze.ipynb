{
 "cells": [
  {
   "cell_type": "code",
   "execution_count": 1,
   "metadata": {
    "notebookRunGroups": {
     "groupValue": "1"
    }
   },
   "outputs": [],
   "source": [
    "import json\n",
    "import csv\n",
    "import math\n",
    "import os\n",
    "import base64\n",
    "import imageio\n",
    "import numpy as np\n",
    "import pandas as pd\n",
    "# import seaborn as sns\n",
    "import plotly.io as pio\n",
    "import matplotlib.pyplot as plt\n",
    "import plotly.graph_objects as go\n",
    "from tqdm import tqdm\n",
    "from IPython import display\n",
    "from joblib import Parallel, delayed\n",
    "# from scipy.signal import find_peaks\n",
    "from scipy.optimize import curve_fit\n",
    "from matplotlib.patches import Wedge\n",
    "# import matplotlib.colors as colors\n",
    "from sklearn.cluster import DBSCAN\n",
    "from collections import defaultdict\n",
    "# from mpl_toolkits.mplot3d import Axes3D\n",
    "from sklearn.metrics import silhouette_score\n",
    "from concurrent.futures import ThreadPoolExecutor"
   ]
  },
  {
   "cell_type": "markdown",
   "metadata": {},
   "source": [
    "# Load Parameters & Data"
   ]
  },
  {
   "cell_type": "code",
   "execution_count": 2,
   "metadata": {
    "notebookRunGroups": {
     "groupValue": "12"
    }
   },
   "outputs": [],
   "source": [
    "# path=r\"Runs\\Low Density\\DualRun\\D0.5Run\\B353S1.0D0.0M70(1)\"\n",
    "# path=r\"Runs\\Low Density\\CRun\\B250S1.0D0.0M30\"\n",
    "path=r\"Runs\\Mid Density\\CRun\\B79S1.0D0.0M15\"\n",
    "# path=r\"Runs\\High Density\\CRun\\B31S1.0D0.0M15\""
   ]
  },
  {
   "cell_type": "code",
   "execution_count": 3,
   "metadata": {
    "notebookRunGroups": {
     "groupValue": "12"
    }
   },
   "outputs": [
    {
     "name": "stdout",
     "output_type": "stream",
     "text": [
      "{'comment': 'add comment', 'epsilon': '1', 'sigma': '1', 'numParticles': '625', 'boxSize': '79.077', 'temperature': '0.00497512', 'cutoff': '1.12246', 'my_gamma': '7.05346', 'timestep': '0.0141774', 'numSteps': '1000000', 'dataCompression': '1000', 'period': '100', 'NoOfPeriods': '1000', 'theta': '15', 'R_0': '1.5', 'D_R': '0.00564276', 'D_T': '0.000705346', 'Pe': '200', 'v_0': '0.141069', 'Omega': '0.352673'}\n"
     ]
    }
   ],
   "source": [
    "def save_param(path):\n",
    "    csv_file_path=path+\"/params.csv\"\n",
    "    # Open the CSV file\n",
    "    with open(csv_file_path, mode='r') as infile:\n",
    "        reader = csv.reader(infile)\n",
    "        mydict = {rows[0]:rows[1] for rows in reader}\n",
    "    return mydict\n",
    "\n",
    "def load_data(path):\n",
    "    with open(path+'/particle_positions.json', 'r') as file:\n",
    "        data = json.load(file)\n",
    "    return data\n",
    "\n",
    "variable_dict=save_param(path)\n",
    "\n",
    "r=float(variable_dict[\"sigma\"])/2.0\n",
    "numParticles=int(variable_dict[\"numParticles\"])\n",
    "boxSize=float(variable_dict[\"boxSize\"])\n",
    "timestep=float(variable_dict[\"timestep\"])\n",
    "dataCompression=int(variable_dict[\"dataCompression\"])\n",
    "theta=(float(variable_dict[\"theta\"])) \n",
    "DR=float(variable_dict[\"D_R\"])\n",
    "data = load_data(path)\n",
    "particleData = np.array(data)\n",
    "\n",
    "# Find indices and Extract particles with particle ID 1.0\n",
    "indices = np.where(particleData[:, :, 0] == 1.0)\n",
    "particleData1 = particleData[indices[0], indices[1]]\n",
    "particleData1 = particleData1.reshape((particleData.shape[0], -1, particleData.shape[2]))\n",
    "print(variable_dict)"
   ]
  },
  {
   "cell_type": "markdown",
   "metadata": {},
   "source": [
    "# Minimum Image Convention Negator"
   ]
  },
  {
   "cell_type": "code",
   "execution_count": 37,
   "metadata": {
    "notebookRunGroups": {
     "groupValue": "2"
    }
   },
   "outputs": [],
   "source": [
    "def min_image_convention(dx, box_size):\n",
    "    \"\"\"\n",
    "    Apply the minimum image convention to get the shortest distance between two points in a periodic box.\n",
    "\n",
    "    Parameters:\n",
    "    dx (float): The distance between the two points.\n",
    "    box_size (float): The size of the periodic box.\n",
    "\n",
    "    Returns:\n",
    "    float: The shortest distance between the two points after applying the minimum image convention.\n",
    "    \"\"\"\n",
    "    dx -= np.round(dx / box_size) * box_size\n",
    "    return dx"
   ]
  },
  {
   "cell_type": "code",
   "execution_count": 5,
   "metadata": {
    "notebookRunGroups": {
     "groupValue": "2"
    }
   },
   "outputs": [],
   "source": [
    "marker_shapes = {\n",
    "    15: 'o',   # Circle\n",
    "    20: '^',   # Triangle\n",
    "    25: 's',   # Square\n",
    "    30: 'D',   # Diamond\n",
    "    35: 'p',   # Pentagon\n",
    "    40: '*',   # Star\n",
    "    45: 'v',   # Inverted triangle\n",
    "    60: '<',   # Left-pointing triangle\n",
    "    90: '>',   # Right-pointing triangle\n",
    "    }\n",
    "cmap = plt.get_cmap('tab20')  # You can choose a different colormap\n"
   ]
  },
  {
   "cell_type": "markdown",
   "metadata": {},
   "source": [
    "# Plot Energy"
   ]
  },
  {
   "cell_type": "code",
   "execution_count": null,
   "metadata": {
    "notebookRunGroups": {
     "groupValue": "12"
    }
   },
   "outputs": [],
   "source": [
    "def energy_plotly_plotter(xlabel, ylabel):\n",
    "    size=particleData.shape[0]\n",
    "    legend_names = [\"Kinetic Energy\", \"Potential Energy\", \"Total Energy\"]\n",
    "    colors = ['blue', 'green', 'red']\n",
    "    energies=[0,0,0]\n",
    "\n",
    "    # Calculate  kinetic, potential and total energy per particle for each time step\n",
    "    energies[0] = np.average(0.5 * np.sum( particleData[:, :, 4:6] ** 2, axis=2), axis=1)\n",
    "    energies[1] = particleData[:,-1, -1]  #last particle last column contains the avergae PE per particle for that timestep\n",
    "    energies[2] = energies[0] + energies[1]\n",
    "\n",
    "    # Create Plotly figure\n",
    "    fig = go.Figure()\n",
    "    time = [i*dataCompression*timestep for i in range(size-1)]\n",
    "    for i in range(3): fig.add_trace(go.Scatter(x=time, y=energies[i], mode='lines', name=legend_names[i], line=dict(color=colors[i])))\n",
    "\n",
    "    fig.update_layout(title=\"Energy Plot\", xaxis_title=xlabel, yaxis_title=ylabel, width=1200, height=600)\n",
    "    pio.write_html(fig, path+'/tempi.html')\n",
    "    fig.show()\n",
    "\n",
    "energy_plotly_plotter(\"Time\", \"Energy per Particle\")"
   ]
  },
  {
   "cell_type": "markdown",
   "metadata": {},
   "source": [
    "# Cluster Analysis"
   ]
  },
  {
   "cell_type": "code",
   "execution_count": 40,
   "metadata": {
    "notebookRunGroups": {
     "groupValue": "2"
    }
   },
   "outputs": [],
   "source": [
    "coordinates= particleData[-1, :, 2:4]\n",
    "eps = 1.5  # The maximum distance between two samples for one to be considered as in the neighborhood of the other\n",
    "min_samples = 2  # The number of samples in a neighborhood for a point to be considered as a core point\n",
    "\n",
    "# Define the range of parameter values for eps and min_samples\n",
    "eps_values = [0.1, 0.5, 1.0, 1.5, 2.0]  # Example values, adjust as needed\n",
    "min_samples_values = [2, 3, 4, 5, 6]  # Example values, adjust as needed"
   ]
  },
  {
   "cell_type": "code",
   "execution_count": 55,
   "metadata": {},
   "outputs": [],
   "source": [
    "def dbscan_params_finder(eps_values, min_samples_values, coordinates):\n",
    "    best_score = -1  # Initialize best silhouette score\n",
    "    best_params = {}\n",
    "\n",
    "    # Perform grid search\n",
    "    for eps in eps_values:\n",
    "        for min_samples in min_samples_values:\n",
    "            # Initialize and fit DBSCAN with current parameters\n",
    "            dbscan = DBSCAN(eps=eps, min_samples=min_samples)\n",
    "            dbscan.fit(coordinates)\n",
    "            \n",
    "            # Compute silhouette score\n",
    "            labels = dbscan.labels_\n",
    "            if len(set(labels)) > 1:  # Silhouette score requires at least 2 clusters\n",
    "                score = silhouette_score(coordinates, labels)\n",
    "\n",
    "                # Update best parameters if silhouette score is higher\n",
    "                if score > best_score:\n",
    "                    best_score = score\n",
    "                    best_params['eps'] = eps\n",
    "                    best_params['min_samples'] = min_samples\n",
    "\n",
    "    # Print the best parameters and silhouette score\n",
    "    print(\"Best parameters:\", best_params)\n",
    "    print(\"Best silhouette score:\", best_score)\n",
    "    return best_params\n",
    "\n",
    "# Specify parameters for DBSCAN\n",
    "# bestParams=dbscan_params_finder(eps_values, min_samples_values, coordinates)\n",
    "# eps = bestParams['eps']\n",
    "# min_samples = bestParams['min_samples']"
   ]
  },
  {
   "cell_type": "code",
   "execution_count": 56,
   "metadata": {
    "notebookRunGroups": {
     "groupValue": "2"
    }
   },
   "outputs": [
    {
     "name": "stdout",
     "output_type": "stream",
     "text": [
      "Cluster Size\tNumber of Clusters\n",
      "-----------------------------------\n",
      "5\t\t1\n",
      "27\t\t1\n",
      "59\t\t1\n",
      "91\t\t1\n",
      "100\t\t2\n",
      "119\t\t1\n",
      "124\t\t1\n"
     ]
    }
   ],
   "source": [
    "def frame_cluster_counter(coordinates, eps, min_samples):\n",
    "    # Initialize, fit DBSCAN and Retrieve the cluster labels assigned by DBSCAN\n",
    "    dbscan = DBSCAN(eps=eps, min_samples=min_samples)\n",
    "    dbscan.fit(coordinates)\n",
    "    cluster_labels = dbscan.labels_\n",
    "\n",
    "    # Initialize a dictionary to store the cluster size and the count of clusters with that size\n",
    "    frame_cluster_outdata= defaultdict(int)\n",
    "\n",
    "    # Count the number of points in each cluster\n",
    "    for label in set(cluster_labels):\n",
    "        # if label == -1: continue\n",
    "        if label == -1: frame_cluster_outdata[1] =np.sum(cluster_labels == label)\n",
    "        else: frame_cluster_outdata[np.sum(cluster_labels == label)] += 1\n",
    "\n",
    "    return frame_cluster_outdata\n",
    "frame_cluster_size_count=frame_cluster_counter(coordinates, eps, min_samples)\n",
    "# Print the database listing the cluster size and the number of clusters with that size\n",
    "print(\"Cluster Size\\tNumber of Clusters\\n-----------------------------------\")\n",
    "for cluster_size, count in sorted(frame_cluster_size_count.items()): print(f\"{cluster_size}\\t\\t{count}\")"
   ]
  },
  {
   "cell_type": "code",
   "execution_count": 57,
   "metadata": {
    "notebookRunGroups": {
     "groupValue": "2"
    }
   },
   "outputs": [
    {
     "name": "stdout",
     "output_type": "stream",
     "text": [
      "defaultdict(<class 'int'>, {1: 242993, 3: 22225, 2: 55920, 4: 11274, 5: 6456, 6: 3924, 8: 1841, 10: 961, 7: 2764, 9: 1244, 13: 407, 22: 41, 23: 44, 12: 506, 11: 686, 19: 95, 16: 182, 14: 301, 18: 116, 15: 245, 17: 155, 21: 68, 25: 22, 20: 82, 26: 18, 28: 14, 29: 13, 32: 12, 27: 24, 24: 34, 30: 16, 40: 4, 34: 11, 37: 2, 35: 7, 44: 1, 46: 2, 45: 2, 42: 4, 39: 5, 31: 8, 36: 2, 33: 9, 43: 1, 41: 2, 47: 1, 38: 2, 48: 1})\n"
     ]
    }
   ],
   "source": [
    "def spatial_clusteral_distribution(particle_data):\n",
    "    accumulated_cluster_size_count = defaultdict(int)\n",
    "    positions = particle_data[:, :, 2:4]\n",
    "    size=positions.shape[0]\n",
    "\n",
    "    for frame in particle_data:\n",
    "        coordinates = frame[:, 2:4]\n",
    "        frame_cluster_size_count=frame_cluster_counter(coordinates, eps, min_samples)\n",
    "\n",
    "        for cluster_size, count in frame_cluster_size_count.items(): accumulated_cluster_size_count[cluster_size] += count\n",
    "    return accumulated_cluster_size_count\n",
    "accumulated_cluster_size_count= spatial_clusteral_distribution(particleData)\n",
    "print(accumulated_cluster_size_count)"
   ]
  },
  {
   "cell_type": "code",
   "execution_count": null,
   "metadata": {},
   "outputs": [],
   "source": [
    "def plot_spatial_cluster_distrribution(particle_data, accumulated_cluster_size_count, theta, folder_path):\n",
    "    # average_cluster_size_count = {cluster_size: count/size for cluster_size, count in accumulated_cluster_size_count.items()}\n",
    "    bin_size = 10\n",
    "    positions = particle_data[:, :, 2:4]\n",
    "    num_bins = positions.shape[1] // bin_size\n",
    "\n",
    "    # crerate a list which stores the \"cluster size\" n times where  n is the number of clusters of that size\n",
    "    cluster_size_list = [cluster_size for cluster_size, count in accumulated_cluster_size_count.items() for _ in range(count)]\n",
    "    #sort cluster_size_list\n",
    "    cluster_size_list.sort()\n",
    "    # remove firsdt 10% of the data\n",
    "    cluster_size_list=cluster_size_list[int(len(cluster_size_list)*0.8):]\n",
    "    # # plot average_cluster_size_count as a histogram\n",
    "    plt.hist(cluster_size_list, bins=num_bins)\n",
    "    # plt.bar(average_cluster_size_count.keys(), average_cluster_size_count.values())\n",
    "    plt.xlabel('Cluster Size')\n",
    "    plt.ylabel('Number of Clusters throughout simulation')\n",
    "    # plt.xlim(100, 600)\n",
    "    \n",
    "    plt.title(f'Vission Angle \\u03B8={round(theta)}\\u00B0')\n",
    "    plt.grid()\n",
    "    plt.savefig(os.path.join(folder_path, 'spatial_clusteral_distribution.png'))\n",
    "    plt.show()\n",
    "    plt.close()\n",
    "plot_spatial_cluster_distrribution(particleData, accumulated_cluster_size_count, theta, path)"
   ]
  },
  {
   "cell_type": "code",
   "execution_count": null,
   "metadata": {},
   "outputs": [],
   "source": [
    "def temporal_clusteral_distribution(particle_data, time_step, data_compression, theta, folder_path):\n",
    "    average_cluster_size = []\n",
    "    rms_cluster_size = []\n",
    "    positions = particle_data[:, :, 2:4]\n",
    "    num_particles=positions.shape[1]\n",
    "\n",
    "    for frame in particle_data:\n",
    "        coordinates = frame[:, 2:4]\n",
    "        frame_cluster_size_count=frame_cluster_counter(coordinates, eps, min_samples)\n",
    "        total_no_of_clusters = np.sum(list(frame_cluster_size_count.values()))\n",
    "        total_of_square_of_cluster_size=np.sum([cluster_size**2 * count for cluster_size, count in frame_cluster_size_count.items()])\n",
    "        total_no_of_particles_in_cluster = np.sum([k*v for k, v in frame_cluster_size_count.items()])\n",
    "        # print (total_no_of_clusters)\n",
    "        # average_cluster_size.append(num_particles / total_no_of_clusters)\n",
    "        # rms_cluster_size.append(np.sqrt(total_of_square_of_cluster_size / total_no_of_clusters))\n",
    "        rms_cluster_size.append(total_no_of_particles_in_cluster / total_no_of_clusters)\n",
    "    time = [i*data_compression*time_step*DR for i in range(particle_data.shape[0])]\n",
    "\n",
    "    plt.plot(time, rms_cluster_size)\n",
    "    plt.grid()\n",
    "    plt.xlabel('Time')\n",
    "    plt.ylabel('RMS Cluster Size')\n",
    "    plt.title(f'Vission Angle \\u03B8={round(theta)}\\u00B0')\n",
    "    plt.savefig(os.path.join(folder_path, 'temporal_clusteral_distribution.png'))\n",
    "    plt.show()\n",
    "    plt.close()\n",
    "temporal_clusteral_distribution(particleData, timestep, dataCompression, theta, path)"
   ]
  },
  {
   "cell_type": "markdown",
   "metadata": {},
   "source": [
    "# Final Frame Plotter"
   ]
  },
  {
   "cell_type": "code",
   "execution_count": null,
   "metadata": {},
   "outputs": [],
   "source": [
    "def FinalSysImagePlotter(particle_data, box_size, path, theta, x_range=None, y_range=None):\n",
    "    # Create a figure and axis for the Plot\n",
    "    fig, ax = plt.subplots()\n",
    "    ax.set_xlim(0, box_size)\n",
    "    ax.set_ylim(0, box_size)\n",
    "    positions = particle_data[-1, :, 2:4]\n",
    "\n",
    "    # Initialize, fit DBSCAN and Retrieve the cluster labels assigned by DBSCAN\n",
    "    dbscan = DBSCAN(eps=eps, min_samples=min_samples)\n",
    "    dbscan.fit(positions)\n",
    "    cluster_labels = dbscan.labels_\n",
    "\n",
    "    # Set the x and y limits if provided\n",
    "    if x_range is not None: ax.set_xlim(x_range)\n",
    "    if y_range is not None: ax.set_ylim(y_range)\n",
    "\n",
    "    # Calculate the side length of the zoomed-in region\n",
    "    if x_range is not None and y_range is not None:\n",
    "        x_side_length = x_range[1] - x_range[0]\n",
    "        y_side_length = y_range[1] - y_range[0]\n",
    "        side_length = min(x_side_length, y_side_length)\n",
    "    else: side_length = box_size  # Default to the full box size if no zoom is provided\n",
    "\n",
    "    #the diameter of the markersize should be of unit length and vary with the side length of the zoomed-in region\n",
    "    marker_size = 3.14*((6*r)**2) * (side_length / box_size)  # Marker size is proportional to the zoomed-in region\n",
    "\n",
    "    # plt.scatter(positions[:, 0], positions[:, 1], c=cluster_labels, marker=\"o\", cmap='flag', s=marker_size)\n",
    "    plt.scatter(positions[:, 0], positions[:, 1], c=cluster_labels, marker=\"o\", cmap='tab20', s=1*((1*r)**2))\n",
    "    # plt.scatter(positions[:, 0], positions[:, 1], c=cluster_labels, marker=\"o\", cmap='tab20', s=3.14*((3*r)**2))\n",
    "    # plt.scatter(positions[:, 0], positions[:, 1], c=cluster_labels, marker=\"o\", cmap='tab20', s=3.14*((9*r)**2))\n",
    "    # add cluster id color coded as legend\n",
    "    ax.set_xticks([])\n",
    "    ax.set_yticks([])\n",
    "    ax.set_xticklabels([])\n",
    "    ax.set_yticklabels([])\n",
    "    ax.set_aspect('equal', adjustable='box')  # so that the plot dimensions are that of a square\n",
    "    plt.text(0.9, 0.95, f'\\u03B8={int(theta)}\\u00B0', horizontalalignment='center', verticalalignment='center', transform=ax.transAxes, fontsize=10, bbox=dict(facecolor='white', alpha=0.5))\n",
    "    plt.savefig(path + \"/FinalFrame.png\",dpi=500)\n",
    "    plt.show()\n",
    "\n",
    "# Example usage with zoomed-in range\n",
    "sideLength=50\n",
    "x_range = (10,10 +sideLength )  # Set your desired x range\n",
    "y_range = (0, 0 + sideLength )  # Set your desired y range\n",
    "\n",
    "# Plots the final system image with zoomed-in range\n",
    "# FinalSysImagePlotter(particleData, boxSize, path, theta, x_range, y_range)\n",
    "FinalSysImagePlotter(particleData, boxSize, path, theta)"
   ]
  },
  {
   "cell_type": "code",
   "execution_count": 9,
   "metadata": {},
   "outputs": [],
   "source": [
    "#save the first frame x, y and id data in a dat file\n",
    "# print(particleData.shape)\n",
    "# print(particleData[0, :, [2, 3, 0]].shape)\n",
    "np.savetxt(path+\"/first_frame.dat\", particleData[0, :, :][:, [2, 3, 0]], fmt='%f %f %f')"
   ]
  },
  {
   "cell_type": "code",
   "execution_count": null,
   "metadata": {},
   "outputs": [],
   "source": [
    "#given a particle number the function plots the trajectory of the particle\n",
    "def plot_trajectory(particle_number, particle_data, path):\n",
    "    # Extract the x and y coordinates of the particle with the given number\n",
    "    x = particle_data[:, particle_number, 2]\n",
    "    y = particle_data[:, particle_number, 3]\n",
    "\n",
    "    # Create a figure and axis for the Plot\n",
    "    fig, ax = plt.subplots()\n",
    "    ax.set_xticks([])\n",
    "    ax.set_yticks([])\n",
    "    ax.set_xlim(0, boxSize)\n",
    "    ax.set_ylim(0, boxSize)\n",
    "    # ax.scatter(x, y, color='red', s=2)\n",
    "        # Plot the trajectory with segments\n",
    "    for i in range(1, len(x)):\n",
    "        if np.sqrt((x[i] - x[i-1])**2 + (y[i] - y[i-1])**2) < boxSize / 2:\n",
    "            ax.plot([x[i-1], x[i]], [y[i-1], y[i]], color='purple', linewidth=1.0)\n",
    "    ax.set_xlim((0,75))\n",
    "    ax.set_ylim((0,75))\n",
    "    ax.set_xlim((0,40))\n",
    "    ax.set_ylim((20,60))\n",
    "    ax.set_aspect('equal', adjustable='box')  # so that the plot dimensions are that of a square\n",
    "    plt.text(0.9, 0.95, f'\\u03B8={int(theta)}\\u00B0', horizontalalignment='center', verticalalignment='center', transform=ax.transAxes, fontsize=13, bbox=dict(facecolor='white', alpha=0.5))\n",
    "    plt.savefig(path + f'/trajectory_particle_{particle_number}.png',dpi=500)\n",
    "    plt.show()\n",
    "\n",
    "particle_number =158  # Particle number for which the trajectory is to be plotted 15-250 300-158 55-158 70-250  90-158\n",
    "\n",
    "plot_trajectory(particle_number, particleData, path)\n",
    "def particle_cluster_id(particle_data, eps, min_samples):\n",
    "    # Initialize, fit DBSCAN and Retrieve the cluster labels assigned by DBSCAN\n",
    "    dbscan = DBSCAN(eps=eps, min_samples=min_samples)\n",
    "    dbscan.fit(particle_data)\n",
    "    cluster_labels = dbscan.labels_\n",
    "    return cluster_labels\n",
    "particle_cluster_id=particle_cluster_id(coordinates, eps, min_samples)\n",
    "print(particle_cluster_id)"
   ]
  },
  {
   "cell_type": "markdown",
   "metadata": {},
   "source": [
    "# Animation"
   ]
  },
  {
   "cell_type": "code",
   "execution_count": null,
   "metadata": {
    "notebookRunGroups": {
     "groupValue": "2"
    }
   },
   "outputs": [],
   "source": [
    "def generate_frames_parallel(skipped_particle_data, frame, box_size, theta, path, time_step, data_compression, skip):\n",
    "    plt.figure()\n",
    "    plt.xlim(0, box_size)\n",
    "    plt.ylim(0, box_size)\n",
    "    \n",
    "    frame_path = os.path.join(path, f'/frame_{frame}.png')\n",
    "    positions = skipped_particle_data[frame, :, 2:4]\n",
    "    time = math.floor(frame * data_compression * time_step * skip)\n",
    "\n",
    "    # Initialize, fit DBSCAN and Retrieve the cluster labels assigned by DBSCAN\n",
    "    dbscan = DBSCAN(eps=eps, min_samples=min_samples)\n",
    "    dbscan.fit(positions)\n",
    "    cluster_labels = dbscan.labels_\n",
    "    # plt.scatter(positions[:, 0], positions[:, 1], c=cluster_labels, marker=\"o\", cmap='tab20', s=1*((1*r)**2))\n",
    "    plt.scatter(positions[:, 0], positions[:, 1], c=cluster_labels, marker=\"o\", cmap='tab20', s=3.14159*((3*r)**2))\n",
    "    # plt.scatter(positions[:, 0], positions[:, 1], c=cluster_labels, marker=\"o\", cmap='tab20', s=3.14159*((9*r)**2))\n",
    "    plt.text(0.05, 0.95, f'Time: {time}', transform=plt.gca().transAxes, fontsize=10, verticalalignment='top')\n",
    "    plt.title(f\"\\u03B8={round(theta)}\\u00B0\")\n",
    "    frame_plt = plt\n",
    "    frame_plt.savefig(frame_path)\n",
    "    plt.close()\n",
    "\n",
    "def show_gif(fname):\n",
    "    with open(fname, 'rb') as fd:\n",
    "        b64 = base64.b64encode(fd.read()).decode('ascii')\n",
    "\n",
    "    gif_html = f'<img src=\"data:image/gif;base64,{b64}\" />'\n",
    "    link_html = f'<a href=\"{fname}\" target=\"_blank\">Click here for the GIF</a>'\n",
    "    # print(path+'/animation.gif')\n",
    "    return display.HTML(f'{gif_html}<br>{link_html}')\n",
    "\n",
    "def process_frame(frame):\n",
    "    frame_path = os.path.join(path, f'/frame_{frame}.png')\n",
    "    image = imageio.imread(frame_path)\n",
    "    os.remove(frame_path)  # Delete individual PNG file\n",
    "    return image\n",
    "def animator(particle_data, box_size, theta, path, time_step, data_compression, skip):\n",
    "    skipped_particle_data = particle_data[::skip]\n",
    "    num_frames = skipped_particle_data.shape[0]\n",
    "    # Use joblib for parallel execution\n",
    "    Parallel(n_jobs=-1)(delayed(generate_frames_parallel)(skipped_particle_data, frame, box_size, theta, path, time_step, data_compression, skip) for frame in tqdm(range(num_frames)))\n",
    "\n",
    "    # Combine frames into a GIF using imageio\n",
    "    with imageio.get_writer(path+'/animation.gif', duration=0.1) as writer:\n",
    "        # Process frames in parallel and append them to the GIF\n",
    "        with ThreadPoolExecutor() as executor:\n",
    "            images = list(executor.map(process_frame, range(num_frames)))\n",
    "            for image in images: writer.append_data(image)\n",
    "    \n",
    "animator(particleData, boxSize, theta, path, timestep, dataCompression, 2)\n",
    "show_gif(path+'/animation.gif')"
   ]
  },
  {
   "cell_type": "code",
   "execution_count": 16,
   "metadata": {},
   "outputs": [
    {
     "name": "stderr",
     "output_type": "stream",
     "text": [
      "100%|██████████| 1000/1000 [00:07<00:00, 135.86it/s]\n",
      "C:\\Users\\alanb\\AppData\\Local\\Temp\\ipykernel_98948\\1767152032.py:38: DeprecationWarning:\n",
      "\n",
      "Starting with ImageIO v3 the behavior of this function will switch to that of iio.v3.imread. To keep the current behavior (and make this warning disappear) use `import imageio.v2 as imageio` or call `imageio.v2.imread` directly.\n",
      "\n"
     ]
    }
   ],
   "source": [
    "num_frames = len(particleData)\n",
    "def update(frame, box_size):\n",
    "    # ?Function to update each frame\n",
    "    plt.figure()\n",
    "    plt.xlim(0, box_size)\n",
    "    plt.ylim(0, box_size)\n",
    "\n",
    "    positions = particleData[frame, :, :]\n",
    "    corner_positions=positions[[0,-1, 9, -10, 73],:]\n",
    "    # Plot the particles at the given frame as circles\n",
    "    try:\n",
    "        for x, y, _, _, phi, _ in particleData[frame]:\n",
    "            circle = plt.Circle((x, y), radius=r, linewidth=0)\n",
    "            # add an if statement to change the color for the last particle in the list\n",
    "            sector = Wedge((x, y), 6, np.degrees(phi) - theta, np.degrees(phi) + theta, ec='black')\n",
    "            plt.gca().add_patch(sector)\n",
    "            plt.gca().add_patch(circle)\n",
    "        for x, y, vx, vy, phi, _ in corner_positions:\n",
    "            sector = Wedge((x, y), 6, np.degrees(phi) - theta, np.degrees(phi) + theta, ec='black', fc='red')\n",
    "            plt.gca().add_patch(sector)\n",
    "    except:\n",
    "        plt.gca().set_facecolor('black')  # Add this line to make the background black\n",
    "    return plt\n",
    "\n",
    "def generate_frames_parallel(frame, box_size):\n",
    "    frame_plt = update(frame, box_size)\n",
    "    frame_path = os.path.join(path, f'frame_{frame}.png')\n",
    "    frame_plt.savefig(frame_path)\n",
    "    plt.close()\n",
    "\n",
    "# Use joblib for parallel execution\n",
    "Parallel(n_jobs=-1)(delayed(generate_frames_parallel)(frame, boxSize) for frame in tqdm(range(num_frames)))\n",
    "\n",
    "# ?Combine frames into a GIF using imageio\n",
    "with imageio.get_writer(path+'animation.gif', duration=0.1) as writer:\n",
    "    for frame in range(num_frames):\n",
    "        frame_path = os.path.join(path, f'frame_{frame}.png')\n",
    "        image = imageio.imread(frame_path)\n",
    "        writer.append_data(image)\n",
    "\n",
    "\n",
    "# ?Delete individual PNG files\n",
    "for frame in range(num_frames):\n",
    "    frame_path = os.path.join(path, f'frame_{frame}.png')\n",
    "    os.remove(frame_path)"
   ]
  },
  {
   "cell_type": "markdown",
   "metadata": {},
   "source": [
    "# Mean Squared Displacement"
   ]
  },
  {
   "cell_type": "code",
   "execution_count": 17,
   "metadata": {
    "notebookRunGroups": {
     "groupValue": "2"
    }
   },
   "outputs": [
    {
     "name": "stderr",
     "output_type": "stream",
     "text": [
      "100%|██████████| 625/625 [00:01<00:00, 384.40it/s]\n"
     ]
    }
   ],
   "source": [
    "def MSD_particle(i, positions, box_size, size):\n",
    "    n = np.zeros((size - 1, 2))\n",
    "    result = []\n",
    "    for j in range(math.floor(size - 1.0)):\n",
    "        d = positions[j + 1:, i] - positions[:-j - 1, i]\n",
    "        d -= np.round((d - n) / (box_size)) * box_size\n",
    "        n = d[:-1]\n",
    "        result.append(np.mean((np.linalg.norm(d, axis=1))**2))\n",
    "    return result\n",
    "\n",
    "def MSD(particle_data, box_size, time_step, data_compression, skip):\n",
    "    positions = particle_data[::skip, :, 2:4]\n",
    "    size=positions.shape[0]\n",
    "    num_particles=positions.shape[1]\n",
    "    MSDPerParticle = np.zeros((num_particles, size - 1))\n",
    "\n",
    "    # Create a nested for-loop running through each particle and all possible gap values to create the MSD Matrix\n",
    "    MSDPerParticle=Parallel(n_jobs=-1)(delayed(MSD_particle)(i, positions, box_size, size) for i in tqdm(range(num_particles)))\n",
    "    MSDPerParticle = np.array(MSDPerParticle)\n",
    "\n",
    "    # Calculate the mean and standard deviation of the MSD values\n",
    "    averageMSDPerGap=[np.mean(MSDPerParticle[:, j]) for j in range(size-1)]\n",
    "    stdMSDPerGap=[np.std(MSDPerParticle[:, j]) for j in range(size-1)]\n",
    "\n",
    "    x=[i*data_compression*time_step*skip for i in range(math.floor(size-1.0))]\n",
    "    y=averageMSDPerGap[:len(x)]\n",
    "    dy=stdMSDPerGap[:len(x)]\n",
    "    return x, y, dy\n",
    "x,y,dy=MSD(particleData1, boxSize, timestep, dataCompression, 1)"
   ]
  },
  {
   "cell_type": "code",
   "execution_count": 18,
   "metadata": {
    "notebookRunGroups": {
     "groupValue": "2"
    }
   },
   "outputs": [
    {
     "name": "stdout",
     "output_type": "stream",
     "text": [
      "[0.11325319]\n"
     ]
    },
    {
     "data": {
      "image/png": "[encoded data removed]",
      "text/plain": [
       "<Figure size 1000x600 with 1 Axes>"
      ]
     },
     "metadata": {},
     "output_type": "display_data"
    }
   ],
   "source": [
    "def plot_MSD(x,y, theta, path):\n",
    "    color = cmap(theta/90)  # Use theta to get a unique color from the colormap\n",
    "    theta_marker = marker_shapes.get(round(theta), 'o')  # Default to circle if theta not in the dictionary\n",
    "    #fit and plot the data with an exponential function and print the fit values\n",
    "    def func(v, b):\n",
    "        return 4*b * np.array(v)\n",
    "    popt, pcov = curve_fit(func, x, y, p0=[100])\n",
    "    print(popt)\n",
    "    # plt.plot(x, func(x, *popt), label=f'Fit:'\" D_t=\"+str(round(popt[0], 2)), color=color)\n",
    "    # print (popt)\n",
    "\n",
    "    # plt.plot(x, y, label=f'Vission Angle \\u03B8={round(theta)}\\u00B0', marker='o', color=color, markersize=1)\n",
    "    plt.scatter(x, y, label=f'Vission Angle \\u03B8={round(theta)}\\u00B0', marker=theta_marker, color=color, s=2)\n",
    "    # plt.yscale('log')\n",
    "    # plt.xscale('log')\n",
    "    plt.xticks(fontsize=8)\n",
    "    plt.xticks(fontsize=8)\n",
    "    plt.grid(True)\n",
    "    plt.xlabel(\"Time Gap\")\n",
    "    plt.ylabel(\"MSD\")\n",
    "    plt.legend(loc='center left', bbox_to_anchor=(1, 0.5), fontsize=7)\n",
    "    plt.title(\"Mean Squared Displacement\")\n",
    "    plt.tight_layout()\n",
    "    # Set the figure size (adjust these values as needed)\n",
    "    fig = plt.gcf()\n",
    "    fig.set_size_inches(10, 6)\n",
    "    plt.savefig(path+\"/MSD.png\", bbox_inches = 'tight')\n",
    "    # return popt and theta as a dictionary for simm plot\n",
    "    # return popt\n",
    "\n",
    "plot_MSD(x,y, theta, path)"
   ]
  },
  {
   "cell_type": "markdown",
   "metadata": {},
   "source": [
    "# Auto-Correlation Function"
   ]
  },
  {
   "cell_type": "code",
   "execution_count": 19,
   "metadata": {
    "notebookRunGroups": {
     "groupValue": "2"
    }
   },
   "outputs": [
    {
     "name": "stderr",
     "output_type": "stream",
     "text": [
      "100%|██████████| 625/625 [00:00<00:00, 1491.12it/s]\n"
     ]
    }
   ],
   "source": [
    "def autoCorrelation_particle(i, positions, box_size, size):\n",
    "    #for each particle i calculate min_image_convention(positions[1:size, i] - positions[0:size-1, i], b)\n",
    "    direction_vector=min_image_convention(positions[1:, i] - positions[0:-1, i], box_size)\n",
    "    dvnorm = np.linalg.norm(direction_vector, axis=1)\n",
    "    direction_vector = direction_vector/dvnorm[:, np.newaxis]\n",
    "    result = []\n",
    "    # Create a nested for-loop running through each particle and gap values\n",
    "    for j in range(size - 1):\n",
    "        result.append(0)\n",
    "        # data[k + 1][i] - data[k][i]\n",
    "        d1 = direction_vector[0:-j-2]\n",
    "        # data[k + j + 2][i] - data[k + j + 1][i]\n",
    "        d2 = direction_vector[j:-2]\n",
    "\n",
    "        dot_product = np.sum(d1 * d2, axis=1)\n",
    "        result[j] = np.sum(dot_product) / (size - j - 1)\n",
    "    return result\n",
    "def autoCorrelation(particle_data, box_size, data_compression, time_step, skip):\n",
    "    # Extracting x and y coordinates from the array\n",
    "    positions = particle_data[::skip, :, 2:4]\n",
    "    size=positions.shape[0]\n",
    "    num_particles=positions.shape[1]\n",
    "    # Create an empty list to store the \"autoCorrelation list\".\n",
    "    autoCorrelationPerParticle = np.zeros((num_particles, size - 1))\n",
    "\n",
    "    # Create a nested for-loop running through each particle and gap values\n",
    "    autoCorrelationPerParticle = np.zeros((num_particles, size))\n",
    "    autoCorrelationPerParticle=Parallel(n_jobs=-1)(delayed(autoCorrelation_particle)(i, positions, box_size, size) for i in tqdm(range(num_particles)))\n",
    "    autoCorrelationPerParticle = np.array(autoCorrelationPerParticle)\n",
    "    \n",
    "    averageAutoCorrelationPerGap=[np.mean(autoCorrelationPerParticle[:, j]) for j in range(size-1)]\n",
    "    stdAutoCorrelationPerGap=[np.std(autoCorrelationPerParticle[:, j]) for j in range(size-1)]\n",
    "\n",
    "    x=[i*data_compression*time_step*skip for i in range(math.floor(size-2))]\n",
    "    y=averageAutoCorrelationPerGap[:len(x)]\n",
    "    dy=stdAutoCorrelationPerGap[:len(x)]\n",
    "    return x, y, dy\n",
    "\n",
    "x, y, dy=autoCorrelation(particleData1, boxSize, dataCompression, timestep, 1)\n",
    "#NOTE - Maybe plot sina*sinb+cosa*cosb"
   ]
  },
  {
   "cell_type": "code",
   "execution_count": null,
   "metadata": {
    "notebookRunGroups": {
     "groupValue": "2"
    }
   },
   "outputs": [],
   "source": [
    "def plot_AutoCorrelation(x,y, dy, theta, path):\n",
    "    # fit the curve with a sinusoidal decaying exponential\n",
    "    def func(x, A, omega, c, k, Beta):\n",
    "        return A * (np.cos(2*math.pi*np.array(x)*omega)+c) * np.exp(-(np.array(x)/k)**Beta)\n",
    "    try: popt, pcov = curve_fit(func, x, y, method='trf')\n",
    "    except: popt=[0,0,0, 0, 0]\n",
    "\n",
    "    # plt.plot(x, y, label=f'Vission Angle \\u03B8={round(theta)}\\u00B0')\n",
    "    plt.errorbar(x,y, yerr=dy, ecolor = 'lightblue', capsize=0)\n",
    "    plt.plot(x, func (x, *popt), label=f'Fit:' \" t_cos=\"+str(round(popt[0], 2)) + \", \\u03B2=\"+str(round(popt[1], 2)) + \", t_exp=\"+str(round(popt[2], 2)), color='red')\n",
    "    plt.xscale('log')\n",
    "    plt.grid(True)\n",
    "    plt.xlabel(\"Time Gap\")\n",
    "    plt.ylabel(\"Auto-Correlation\")\n",
    "    plt.title(f\"Auto-Correlation at \\u03B8={round(theta)}\\u00B0\")\n",
    "    # Add the fitting equation to the plot\n",
    "    equation = f'Fit: cos(2\\u03C0t / t_cos) * exp( -(v^\\u03B2) / t_exp)'\n",
    "    plt.text(0.05, 0.95, equation, transform=plt.gca().transAxes, fontsize=10, verticalalignment='top')\n",
    "    plt.legend()\n",
    "\n",
    "    # Set the figure size (adjust these values as needed)\n",
    "    fig = plt.gcf()\n",
    "    fig.set_size_inches(10, 6)\n",
    "    plt.savefig(path+\"/autoCorrelation.png\", bbox_inches = 'tight')\n",
    "    plt.show()\n",
    "    plt.close()\n",
    "\n",
    "plot_AutoCorrelation(x,y, dy, theta, path)\n"
   ]
  },
  {
   "cell_type": "code",
   "execution_count": null,
   "metadata": {},
   "outputs": [],
   "source": [
    "from scipy.optimize import minimize\n",
    "def plot_AutoCorrelation(x,y, dy, theta, path):\n",
    "    # fit the curve with a sinusoidal decaying exponential\n",
    "    def func(x, A, omega, c, k, Beta):\n",
    "        return A * (np.cos(2*math.pi*np.array(x)*omega)+c) * np.exp(-(np.array(x)/k)**Beta)\n",
    "    def loss(params):\n",
    "        b, c, d = params\n",
    "        return np.sum((y - func(x, b, c, d))**2)\n",
    "    result = minimize(loss, [1, 1.0, 1])\n",
    "    # Extract optimized parameters\n",
    "    optimal_params = result.x\n",
    "    b_opt, c_opt, d_opt = optimal_params\n",
    "    # Compute the fitted curve\n",
    "    y_fit = func(x, b_opt, c_opt, d_opt)\n",
    "    plt.plot(x, y, label=f'Vission Angle \\u03B8={round(theta)}\\u00B0')\n",
    "    plt.plot(x, y_fit, color='red', label=f'Fit: b={b_opt:.2f}, c={c_opt:.2f}, d={d_opt:.2f}', linewidth=2)\n",
    "    plt.xscale('log')\n",
    "    plt.grid(True)\n",
    "    plt.xlabel(\"Time Gap\")\n",
    "    plt.ylabel(\"Auto-Correlation\")\n",
    "    plt.title(f\"Auto-Correlation at \\u03B8={round(theta)}\\u00B0\")\n",
    "    plt.legend()\n",
    "\n",
    "    # Set the figure size (adjust these values as needed)\n",
    "    fig = plt.gcf()\n",
    "    fig.set_size_inches(10, 6)\n",
    "    plt.savefig(path+\"/autoCorrelation.png\", bbox_inches = 'tight')\n",
    "    plt.show()\n",
    "    plt.close()\n",
    "\n",
    "plot_AutoCorrelation(x,y, dy, theta, path)\n"
   ]
  },
  {
   "cell_type": "markdown",
   "metadata": {},
   "source": [
    "# Persistence"
   ]
  },
  {
   "cell_type": "code",
   "execution_count": 66,
   "metadata": {
    "notebookRunGroups": {
     "groupValue": "2"
    }
   },
   "outputs": [],
   "source": [
    "def persistence_particle(i, positions, box_size, size):\n",
    "    #for each particle i calculate min_image_convention(positions[1:size, i] - positions[0:size-1, i], b)\n",
    "    direction_vector=min_image_convention(positions[1:, i] - positions[0:-1, i], box_size)\n",
    "    dvnorm = np.linalg.norm(direction_vector, axis=1)\n",
    "    direction_vector = direction_vector/dvnorm[:, np.newaxis]\n",
    "    cosine_matrix = np.dot(direction_vector, direction_vector.T)\n",
    "    result = []\n",
    "    # Create a nested for-loop running through each particle and gap values\n",
    "    for j in range(size):\n",
    "        result.append(0)\n",
    "        for k in range(size - j - 2):\n",
    "            cosines = cosine_matrix[k,k:k+j+1]                 #Broadcasting of numpy arrays is the reason we can do the next step\n",
    "            flag = np.any(cosines < 0)\n",
    "            if not flag: result[j] += 1.0\n",
    "        result[j] = result[j]/ int(size - j)\n",
    "    return result\n",
    "\n",
    "def persistence(particle_data, box_size, data_compression, time_step, skip):\n",
    "    # Extracting x and y coordinates from the array\n",
    "    positions = particle_data[::skip, :, 2:4]\n",
    "    size=positions.shape[0]\n",
    "    num_particles=positions.shape[1]\n",
    "    \n",
    "    persistencePerParticle = np.zeros((num_particles, size))\n",
    "    persistencePerParticle=Parallel(n_jobs=-1)(delayed(persistence_particle)(i, positions, box_size, size) for i in tqdm(range(num_particles)))\n",
    "    persistencePerParticle = np.array(persistencePerParticle)\n",
    "    # Create a for loop running through persistencePerParticle[i] and finding the mean persistence\n",
    "    averagePersistencePerGap=[np.mean(persistencePerParticle[:, j]) for j in range(size)]\n",
    "\n",
    "    x = [i*data_compression*time_step*skip for i in range(size-1)]\n",
    "    y = averagePersistencePerGap[:len(x)]\n",
    "    \n",
    "    return x, y\n",
    "# x, y=persistence(particleData1, boxSize, dataCompression, timestep, 1)"
   ]
  },
  {
   "cell_type": "code",
   "execution_count": null,
   "metadata": {},
   "outputs": [],
   "source": [
    "def persistence_particle(i, positions, box_size, size):\n",
    "    #for each particle i calculate min_image_convention(positions[1:size, i] - positions[0:size-1, i], b)\n",
    "    direction_vector=min_image_convention(positions[1:, i] - positions[0:-1, i], box_size)\n",
    "    dvnorm = np.linalg.norm(direction_vector, axis=1)\n",
    "    direction_vector = direction_vector/dvnorm[:, np.newaxis]\n",
    "    cosine_matrix = np.dot(direction_vector, direction_vector.T)\n",
    "    result = []\n",
    "    # Create a nested for-loop running through each particle and gap values\n",
    "    for j in range(size):\n",
    "        result.append(0)\n",
    "        for k in range(size - j - 2):\n",
    "            cosines = cosine_matrix[k,k:k+j+1]                 #Broadcasting of numpy arrays is the reason we can do the next step\n",
    "            flag = np.any(cosines < 0)\n",
    "            if not flag: result[j] += 1.0\n",
    "        result[j] = result[j]/ int(size - j)\n",
    "    return result\n",
    "\n",
    "def persistence(particle_data, box_size, data_compression, time_step, skip):\n",
    "    # Extracting x and y coordinates from the array\n",
    "    positions1 = particle_data[:100:, :, 2:4]\n",
    "    positions2 = particle_data[100::skip, :, 2:4]\n",
    "    positions = np.concatenate((positions1, positions2), axis=0)\n",
    "    size=positions.shape[0]\n",
    "    num_particles=positions.shape[1]\n",
    "    \n",
    "    persistencePerParticle = np.zeros((num_particles, size))\n",
    "    persistencePerParticle=Parallel(n_jobs=-1)(delayed(persistence_particle)(i, positions, box_size, size) for i in tqdm(range(num_particles)))\n",
    "    persistencePerParticle = np.array(persistencePerParticle)\n",
    "    # Create a for loop running through persistencePerParticle[i] and finding the mean persistence\n",
    "    averagePersistencePerGap=[np.mean(persistencePerParticle[:, j]) for j in range(size)]\n",
    "\n",
    "    x1 = [i*data_compression*time_step for i in range(100)]\n",
    "    x2 = [i*data_compression*time_step*skip for i in range(100, size-1)]\n",
    "    x = x1 + x2\n",
    "    y = averagePersistencePerGap[:len(x)]\n",
    "    \n",
    "    return x, y\n",
    "# x, y=persistence(particleData1, boxSize, dataCompression, timestep, 5)"
   ]
  },
  {
   "cell_type": "code",
   "execution_count": 67,
   "metadata": {
    "notebookRunGroups": {
     "groupValue": "2"
    }
   },
   "outputs": [],
   "source": [
    "def plot_persistence(x, y, theta, save_path):\n",
    "    color = cmap(theta/90)  # Use theta to get a unique color from the colormap\n",
    "    theta_marker = marker_shapes.get(round(theta), 'o')  # Default to circle if theta not in the dictionary\n",
    "    #fit and plot the data with an exponential function and print the fit values\n",
    "    def func(v, a, b, c):\n",
    "        # return a * np.exp(-np.array(v)/b)\n",
    "        # return a * np.exp(-((np.array(v))**c)/b)\n",
    "        return 1/(np.exp(((np.array(v)-c)*b))+a)\n",
    "    popt, pcov = curve_fit(func, x, y, p0=[1, 100, 1])\n",
    "    plt.plot(x, func(x, *popt), label=f'Fit:'\" a=\"+str(round(popt[0], 2))+\" b=\"+str(round(popt[1], 2))+\" c=\"+str(round(popt[2], 2)), color=color)\n",
    "    # print (popt)\n",
    "\n",
    "    # plt.plot(x, y, label=f'Vission Angle \\u03B8={round(theta)}\\u00B0', marker=theta_marker, color=color, markersize=2)\n",
    "    plt.scatter(x, y, label=f'Vission Angle \\u03B8={round(theta)}\\u00B0', marker=theta_marker, color=color, s=2)\n",
    "\n",
    "    plt.xscale('log')\n",
    "    # plt.yscale('log', base=2)\n",
    "    plt.grid(True)\n",
    "    plt.xlabel(\"Time Gap\")\n",
    "    plt.ylabel(\"Persistence\")\n",
    "    plt.legend(loc='center left', bbox_to_anchor=(1, 0.5), fontsize=7)\n",
    "    # Set the figure size (adjust these values as needed)\n",
    "    fig = plt.gcf()\n",
    "    fig.set_size_inches(10, 6)\n",
    "    plt.savefig(save_path+\"/persistence.png\", bbox_inches = 'tight')\n",
    "    # return popt\n",
    "# plot_persistence(x, y, theta, path)"
   ]
  },
  {
   "cell_type": "code",
   "execution_count": null,
   "metadata": {},
   "outputs": [],
   "source": [
    "def persistence(datain):\n",
    "    data=datain\n",
    "    size=particleData.shape[0]\n",
    "    # Create an empty list to store the \"Persistence list\" and  average persistence per gap\n",
    "    persistencePerParticle = [[0.0] * (size) for i in range(numParticles)]\n",
    "    averagePersistencePerGap = [0.0] * (size)\n",
    "    # Create a nested for-loop running through each particle all the possible gap values to create the Persistence Matrix; here j will be called \"gap\"\n",
    "    for i in tqdm(range(numParticles)):\n",
    "        for j in range(size):\n",
    "            for k in range(size - j - 1):  # -1 because we want to avoid the last particle as there is no k+1 for it\n",
    "                flag = 0\n",
    "                d1x = min_image_convention(data[k + 1][i][0] - data[k][i][0], boxSize)\n",
    "                d1y = min_image_convention(data[k + 1][i][1] - data[k][i][1], boxSize)\n",
    "                d1norm = math.sqrt(d1x**2 + d1y**2)\n",
    "                for l in range(j + 1):\n",
    "                    d2x = min_image_convention(data[k + l + 1][i][0] - data[k + l][i][0], boxSize)\n",
    "                    d2y = min_image_convention(data[k + l + 1][i][1] - data[k + l][i][1], boxSize)\n",
    "                    d2norm = math.sqrt(d2x**2 + d2y**2)\n",
    "                    if (d1x * d2x + d1y * d2y) / (d1norm * d2norm) < 0:  # if cos becomes negative\n",
    "                        flag = 1\n",
    "                        break\n",
    "                if flag == 0:\n",
    "                    persistencePerParticle[i][j] += 1.0\n",
    "\n",
    "            persistencePerParticle[i][j] /= int(size - j)\n",
    "\n",
    "    # Create a for loop running through persistencePerParticle[i] and finding the mean persistence\n",
    "    for j in tqdm(range(size)):\n",
    "        persistenceValues = []\n",
    "        for i in range(numParticles):\n",
    "            # Add the persistence of each particle at a given gap to the list\n",
    "            persistenceValues.append(persistencePerParticle[i][j])\n",
    "\n",
    "        # Calculate the mean  of the persistence values\n",
    "        averagePersistencePerGap[j] = np.mean(persistenceValues)\n",
    "\n",
    "    x = [i*dataCompression*timestep for i in range(size-1)]\n",
    "    y = averagePersistencePerGap[:len(x)]\n",
    "    \n",
    "    return y, x\n",
    "x, y=persistence(data)"
   ]
  },
  {
   "cell_type": "markdown",
   "metadata": {},
   "source": [
    "# Multi Plotters"
   ]
  },
  {
   "cell_type": "code",
   "execution_count": 8,
   "metadata": {
    "notebookRunGroups": {
     "groupValue": "2"
    }
   },
   "outputs": [],
   "source": [
    "parentFolder = r\"Runs\\Low Density\\DualRun\\D0.5Run\"\n",
    "filePaths = [f.path+\"/\" for f in os.scandir(parentFolder) if f.is_dir()]\n",
    "MSDp=True"
   ]
  },
  {
   "cell_type": "markdown",
   "metadata": {},
   "source": [
    "## Sim Animation"
   ]
  },
  {
   "cell_type": "code",
   "execution_count": null,
   "metadata": {},
   "outputs": [],
   "source": [
    "def simGif():\n",
    "    for file_path in tqdm(filePaths):\n",
    "        data = load_data(file_path)\n",
    "        particleData = np.array(data)\n",
    "\n",
    "        variable_dict=save_param(file_path)\n",
    "        theta=(float(variable_dict[\"theta\"]))\n",
    "        boxSize=float(variable_dict[\"boxSize\"])\n",
    "        timestep=float(variable_dict[\"timestep\"])\n",
    "        dataCompression=int(variable_dict[\"dataCompression\"])\n",
    "        # FinalSysImagePlotter(particleData, boxSize, file_path, theta)\n",
    "        animator(particleData, boxSize, theta, file_path, timestep, dataCompression, 2)\n",
    "simGif()"
   ]
  },
  {
   "cell_type": "markdown",
   "metadata": {},
   "source": [
    "## Sim Autocorelation"
   ]
  },
  {
   "cell_type": "code",
   "execution_count": null,
   "metadata": {},
   "outputs": [],
   "source": [
    "def simAutoC():\n",
    "    for file_path in tqdm(filePaths):\n",
    "        data = load_data(file_path)\n",
    "        particleData = np.array(data)\n",
    "\n",
    "        variable_dict=save_param(file_path)\n",
    "        theta=(float(variable_dict[\"theta\"]))\n",
    "        boxSize=float(variable_dict[\"boxSize\"])\n",
    "        timestep=float(variable_dict[\"timestep\"])\n",
    "        dataCompression=int(variable_dict[\"dataCompression\"])\n",
    "        out=autoCorrelation(particleData, boxSize, dataCompression, timestep, 1)\n",
    "        plot_AutoCorrelation(out[0],out[1], out[2], theta, file_path)\n",
    "\n",
    "simAutoC()"
   ]
  },
  {
   "cell_type": "markdown",
   "metadata": {},
   "source": [
    "## Sim MSD & Persistence"
   ]
  },
  {
   "cell_type": "code",
   "execution_count": 44,
   "metadata": {},
   "outputs": [
    {
     "name": "stderr",
     "output_type": "stream",
     "text": [
      "100%|██████████| 625/625 [00:01<00:00, 439.72it/s]\n",
      "100%|██████████| 625/625 [00:01<00:00, 399.60it/s]\n",
      "100%|██████████| 625/625 [00:01<00:00, 486.82it/s]\n",
      "100%|██████████| 625/625 [00:01<00:00, 403.66it/s]\n",
      "100%|██████████| 625/625 [00:01<00:00, 411.24it/s]\n",
      "100%|██████████| 625/625 [00:01<00:00, 409.32it/s]\n",
      "100%|██████████| 625/625 [00:01<00:00, 428.33it/s]\n",
      "100%|██████████| 625/625 [00:01<00:00, 443.28it/s]\n",
      "100%|██████████| 625/625 [00:01<00:00, 419.74it/s]\n",
      "100%|██████████| 625/625 [00:01<00:00, 402.19it/s]\n",
      "100%|██████████| 625/625 [00:01<00:00, 425.23it/s]\n",
      "100%|██████████| 625/625 [00:01<00:00, 415.75it/s]\n",
      "100%|██████████| 625/625 [00:01<00:00, 426.01it/s]\n",
      "100%|██████████| 625/625 [00:03<00:00, 164.62it/s]\n",
      "100%|██████████| 625/625 [00:01<00:00, 360.33it/s]\n",
      "100%|██████████| 625/625 [00:01<00:00, 413.62it/s]\n",
      "100%|██████████| 625/625 [00:01<00:00, 434.72it/s]\n",
      "100%|██████████| 625/625 [00:01<00:00, 398.42it/s]\n",
      "100%|██████████| 625/625 [00:01<00:00, 440.57it/s]\n",
      "100%|██████████| 625/625 [00:01<00:00, 432.64it/s]\n",
      "100%|██████████| 625/625 [00:01<00:00, 448.56it/s]\n",
      "100%|██████████| 625/625 [00:01<00:00, 368.09it/s]\n",
      "100%|██████████| 625/625 [00:01<00:00, 440.77it/s]\n",
      "100%|██████████| 625/625 [00:01<00:00, 419.53it/s]\n",
      "100%|██████████| 24/24 [03:09<00:00,  7.88s/it]"
     ]
    },
    {
     "name": "stdout",
     "output_type": "stream",
     "text": [
      "{10.0: 3, 20.0: 3, 30.0: 3, 40.0: 3, 50.0: 3, 60.0: 3, 70.0: 3, 90.0: 3}\n"
     ]
    },
    {
     "name": "stderr",
     "output_type": "stream",
     "text": [
      "\n"
     ]
    }
   ],
   "source": [
    "def simPlot(filePaths):\n",
    "    Fit_Data = defaultdict(list)\n",
    "    Plot_Data={}\n",
    "    for file_path in tqdm(filePaths):\n",
    "        data = load_data(file_path)\n",
    "        particle_data = np.array(data)\n",
    "        indices = np.where(particle_data[:, :, 0] == 1.0)\n",
    "        particle_data1 = particle_data[indices[0], indices[1]].reshape((particle_data.shape[0], -1, particle_data.shape[2]))\n",
    "\n",
    "        variable_dict=save_param(file_path)\n",
    "        theta=(float(variable_dict[\"theta\"]))\n",
    "        boxSize=float(variable_dict[\"boxSize\"])\n",
    "        timestep=float(variable_dict[\"timestep\"])\n",
    "        dataCompression=int(variable_dict[\"dataCompression\"])\n",
    "        #use default-dict to store the data insted of a regular dictionory\n",
    "        if MSDp: Fit_Data[theta].append(np.array(MSD(particle_data1, boxSize, timestep, dataCompression, 1)))\n",
    "        else: Fit_Data[theta].append(np.array(persistence(particle_data1, boxSize, dataCompression, timestep, 5)))\n",
    "\n",
    "    for theta in Fit_Data: Plot_Data[theta] = [Fit_Data[theta][0][0], np.mean(Fit_Data[theta], axis=0)[1]]\n",
    "    No_of_Runs_per_theta = {key: len(value) for key, value in Fit_Data.items()}\n",
    "\n",
    "    return Plot_Data, Fit_Data, No_of_Runs_per_theta\n",
    "Data_Dictionaries =simPlot(filePaths)\n",
    "print (Data_Dictionaries[2])"
   ]
  },
  {
   "cell_type": "code",
   "execution_count": 45,
   "metadata": {},
   "outputs": [],
   "source": [
    "# Saving as JSON\n",
    "def save_data(filename, data):\n",
    "    with open(filename + '.json', 'w') as jsonfile: json.dump(data, jsonfile)\n",
    "\n",
    "# Retrieve data from file\n",
    "def retrieve_data(filename):\n",
    "    with open(filename + '.json', 'r') as jsonfile: retrieved_data_json = json.load(jsonfile)\n",
    "    #change the key to float\n",
    "    retrieved_data_json = {float(k): v for k, v in retrieved_data_json.items()}\n",
    "    return retrieved_data_json"
   ]
  },
  {
   "cell_type": "code",
   "execution_count": 46,
   "metadata": {},
   "outputs": [],
   "source": [
    "l = dict(sorted({key: np.array(value) for key, value in Data_Dictionaries[0].items()}.items()))\n",
    "Plot_Data = dict(sorted({key: value.tolist() for key, value in l.items()}.items()))\n",
    "d = dict(sorted({key: np.array(value) for key, value in Data_Dictionaries[1].items()}.items()))\n",
    "d = dict(sorted({key: value.tolist() for key, value in d.items()}.items()))"
   ]
  },
  {
   "cell_type": "code",
   "execution_count": 47,
   "metadata": {},
   "outputs": [],
   "source": [
    "save_data(parentFolder+'/Anal_Plot_Data', Plot_Data)\n",
    "save_data(parentFolder+'/Anal_Fit_Data', d)\n",
    "Plot_Data=retrieve_data(parentFolder+'/Anal_Plot_Data')\n",
    "d=retrieve_data(parentFolder+'/Anal_Fit_Data')"
   ]
  },
  {
   "cell_type": "code",
   "execution_count": 48,
   "metadata": {},
   "outputs": [
    {
     "name": "stderr",
     "output_type": "stream",
     "text": [
      "c:\\Users\\alanb\\AppData\\Local\\Programs\\Python\\Python312\\Lib\\site-packages\\scipy\\optimize\\_minpack_py.py:1010: OptimizeWarning: Covariance of the parameters could not be estimated\n",
      "  warnings.warn('Covariance of the parameters could not be estimated',\n"
     ]
    },
    {
     "data": {
      "image/png": "[encoded data removed]",
      "text/plain": [
       "<Figure size 1000x600 with 1 Axes>"
      ]
     },
     "metadata": {},
     "output_type": "display_data"
    }
   ],
   "source": [
    "fit_values={}\n",
    "for theta in Plot_Data:\n",
    "        #For each data e store the fir vlues in a dictionary\n",
    "        fit_values[theta] = []\n",
    "        def func(v, a, b, c, d):\n",
    "                if MSDp: fu = 4*b*np.array(v)\n",
    "                else: fu = a*np.exp(-((np.array(v)/b)**c))+d\n",
    "                return fu\n",
    "        for entry in d[theta]:\n",
    "                #check if entry is an integer type\n",
    "                if isinstance(entry, int): continue\n",
    "                x = entry[:][0]\n",
    "                y = entry[:][1]\n",
    "                try: popt, pcov = curve_fit(func, x[:], y[:])# , p0=[1, 100, 1, 0]\n",
    "                except: popt = [0,0,0,0]\n",
    "                fit_values[theta].append(popt[1])\n",
    "        if MSDp:plot_MSD(Plot_Data[theta][0], Plot_Data[theta][1], theta, parentFolder)\n",
    "        else: plot_persistence(Plot_Data[theta][0], Plot_Data[theta][1], theta, parentFolder)\n",
    "\n",
    "# Save to Excel\n",
    "df = pd.DataFrame.from_dict(fit_values)\n",
    "if MSDp: df.to_excel(parentFolder+\"/fit_valuesMSD.xlsx\")\n",
    "else: df.to_excel(parentFolder+\"/fit_valuesPersistence.xlsx\")"
   ]
  },
  {
   "cell_type": "code",
   "execution_count": 49,
   "metadata": {},
   "outputs": [
    {
     "data": {
      "image/png": "[encoded data removed]",
      "text/plain": [
       "<Figure size 640x480 with 1 Axes>"
      ]
     },
     "metadata": {},
     "output_type": "display_data"
    }
   ],
   "source": [
    "# Read from Excel and save it as a dictionary\n",
    "if MSDp: df = pd.read_excel(parentFolder+\"/fit_valuesMSD.xlsx\")\n",
    "else: df = pd.read_excel(parentFolder+\"/fit_valuesPersistence.xlsx\")\n",
    "fit_values = df.set_index('Unnamed: 0').to_dict('list')\n",
    "\n",
    "# Plot the fit values by averaging the fit values for each theta also plot the standard deviation\n",
    "x = list(fit_values.keys())\n",
    "y = [np.mean(fit_values[theta]) for theta in x]\n",
    "dy = [np.std(fit_values[theta]) for theta in x]\n",
    "plt.plot(x, y, color='black', linestyle='-', marker='o')\n",
    "plt.errorbar(x, y, yerr=dy, fmt='o', color='black', ecolor='RED', elinewidth=2, capsize=2)\n",
    "plt.xlabel('Vission Angle \\u03B8')\n",
    "if MSDp: \n",
    "    plt.ylabel('Diffusion Coefficient')\n",
    "    plt.title('Diffusion Coefficient vs Vission Angle')\n",
    "    plt.savefig(parentFolder+\"/MSDfit_values.png\")\n",
    "else:\n",
    "    plt.ylabel('Persistence Coefficient')\n",
    "    plt.savefig(parentFolder+\"/Persistencefit_values.png\")\n",
    "\n",
    "plt.show()\n",
    "# plt.close()"
   ]
  },
  {
   "cell_type": "code",
   "execution_count": 76,
   "metadata": {},
   "outputs": [
    {
     "data": {
      "image/png": "[encoded data removed]",
      "text/plain": [
       "<Figure size 640x480 with 1 Axes>"
      ]
     },
     "metadata": {},
     "output_type": "display_data"
    }
   ],
   "source": [
    "# Set the style of the plot\n",
    "# sns.set_style(\"whitegrid\")\n",
    "gparentFolder = r\"Runs\\Low Density\\DualRunPassive\"\n",
    "filePaths = [f.path+\"/\" for f in os.scandir(gparentFolder) if f.is_dir()]\n",
    "\n",
    "# Define the colors for each plot\n",
    "cmap = plt.get_cmap('inferno')\n",
    "colors = [cmap(0/3), cmap(1/3), cmap(2/3)]\n",
    "ratios=[\"625:625\", \"625:268\", \"625:70\"]\n",
    "\n",
    "# Loop over each file path\n",
    "for file_path, color, ratio in zip(filePaths, colors, ratios):\n",
    "    # Read from Excel and save it as a dictionary\n",
    "    if MSDp: df = pd.read_excel(file_path+\"/fit_valuesMSD.xlsx\")\n",
    "    else: df = pd.read_excel(file_path+\"/fit_valuesPersistence.xlsx\")\n",
    "    fit_values = df.set_index('Unnamed: 0').to_dict('list')\n",
    "\n",
    "    x = list(fit_values.keys())\n",
    "    y = [np.mean(fit_values[theta]) for theta in x]\n",
    "    dy = [np.std(fit_values[theta]) for theta in x]\n",
    "    plt.plot(x, y, color=color, marker='o', linestyle='--', linewidth=2)\n",
    "    plt.errorbar(x, y, yerr=dy, color=color, marker='o', linestyle='--', linewidth=2, label=ratio, ecolor='black', elinewidth=2, capsize=2)\n",
    "\n",
    "# plt.figure(figsize=(10, 6))\n",
    "plt.grid(False)\n",
    "# Customize tick marks for both major and minor ticks\n",
    "plt.tick_params(axis='both', which='major', direction='in', length=8, width=2, bottom=True, top=True, left=True, right=True)\n",
    "plt.tick_params(axis='both', which='minor', direction='in', length=4, width=2, bottom=True, top=True, left=True, right=True)\n",
    "plt.minorticks_on()\n",
    "\n",
    "plt.xlabel('Vission Angle $\\\\theta^\\\\circ$', fontsize=12)\n",
    "\n",
    "# plt.show()\n",
    "plt.legend(fontsize=10)\n",
    "if MSDp:\n",
    "    plt.ylabel('$D_t$', fontsize=12)\n",
    "    plt.savefig(gparentFolder+\"/MSD_fit_values.png\", dpi=300, bbox_inches='tight')\n",
    "else:\n",
    "    plt.ylabel('$t_{exp}$', fontsize=12)\n",
    "    plt.savefig(gparentFolder+\"/Persistence_fit_values.png\", dpi=300, bbox_inches='tight')\n",
    "\n",
    "plt.show()"
   ]
  },
  {
   "cell_type": "markdown",
   "metadata": {},
   "source": [
    "# Multi Cluster Analyisis"
   ]
  },
  {
   "cell_type": "code",
   "execution_count": null,
   "metadata": {},
   "outputs": [],
   "source": [
    "for folder in tqdm(filePaths):\n",
    "    data = load_data(folder)\n",
    "    particleData = np.array(data)\n",
    "    variable_dict=save_param(folder)\n",
    "    \n",
    "    theta=(float(variable_dict[\"theta\"]))\n",
    "    boxSize=float(variable_dict[\"boxSize\"])\n",
    "    timestep=float(variable_dict[\"timestep\"])\n",
    "    dataCompression=int(variable_dict[\"dataCompression\"])\n",
    "    accumulated_cluster_size_count= spatial_clusteral_distribution(particleData)\n",
    "    plot_spatial_cluster_distrribution(particleData, accumulated_cluster_size_count, theta, path)\n",
    "    # temporal_clusteral_distribution(particleData, timestep, dataCompression, theta, folder)"
   ]
  },
  {
   "cell_type": "code",
   "execution_count": null,
   "metadata": {},
   "outputs": [],
   "source": [
    "import numpy as np\n",
    "import matplotlib.pyplot as plt\n",
    "from mpl_toolkits.mplot3d import Axes3D\n",
    "\n",
    "i=0\n",
    "# initialize relative_density as a 2d array\n",
    "relative_density = np.zeros((len(filePaths), 25))\n",
    "for folder in tqdm(filePaths):\n",
    "    data = load_data(folder)\n",
    "    particleData = np.array(data)\n",
    "    variable_dict=save_param(folder)\n",
    "    \n",
    "    theta=(float(variable_dict[\"theta\"]))\n",
    "    boxSize=float(variable_dict[\"boxSize\"])\n",
    "    timestep=float(variable_dict[\"timestep\"])\n",
    "    dataCompression=int(variable_dict[\"dataCompression\"])\n",
    "    accumulated_cluster_size_count= spatial_clusteral_distribution(particleData)\n",
    "    # find relative density\n",
    "    relative_density[i] = [cluster_size for cluster_size, count in accumulated_cluster_size_count.items() for _ in range(count)]\n",
    "# Assuming you have the following data\n",
    "vision_cone = [np.linspace(15, 90, 5)]  # replace with your actual data\n",
    "cluster_size = np.linspace(0, 625, 25)  # replace with your actual data\n",
    "relative_density = np.random.rand(14, 100)  # replace with your actual data\n",
    "\n",
    "X, Y = np.meshgrid(vision_cone, cluster_size)\n",
    "\n",
    "fig = plt.figure()\n",
    "ax = fig.add_subplot(111, projection='3d')\n",
    "ax.plot_surface(X, Y, relative_density, cmap='viridis')\n",
    "\n",
    "ax.set_xlabel('Vision Cone')\n",
    "ax.set_ylabel('Cluster Size')\n",
    "ax.set_zlabel('Relative Density')\n",
    "\n",
    "plt.show()"
   ]
  },
  {
   "cell_type": "code",
   "execution_count": null,
   "metadata": {},
   "outputs": [],
   "source": [
    "# Step 1: Normalize and average the data\n",
    "def normalize_and_average_data(accumulated_data, num_frames):\n",
    "    normalized_data = {}\n",
    "    for size, count in accumulated_data.items():\n",
    "        normalized_data[size] = count / num_frames  # Normalize by the total number of frames\n",
    "    return normalized_data\n",
    "\n",
    "def average_normalized_data(theta_cluster_dict):\n",
    "    averaged_data_dict = {}\n",
    "    for theta, normalized_accumulated_cluster_size_count_list in theta_cluster_dict.items():\n",
    "        averaged_data = defaultdict(float)\n",
    "        for normalized_accumulated_cluster_size_count in normalized_accumulated_cluster_size_count_list:\n",
    "            for size, count in normalized_accumulated_cluster_size_count.items():\n",
    "                averaged_data[size] += count\n",
    "        for size in averaged_data:\n",
    "            averaged_data[size] /= len(normalized_accumulated_cluster_size_count_list)\n",
    "        averaged_data_dict[theta] = averaged_data\n",
    "    return averaged_data_dict\n",
    "\n",
    "# Normalize and average the data for each vision cone\n",
    "theta_cluster_dict = defaultdict(list)\n",
    "for folder in filePaths:\n",
    "    data = load_data(folder)\n",
    "    particleData = np.array(data)\n",
    "    theta = float(save_param(folder)[\"theta\"])\n",
    "    accumulated_cluster_size_count = spatial_clusteral_distribution(particleData)\n",
    "    normalized_accumulated_cluster_size_count = normalize_and_average_data(accumulated_cluster_size_count, particleData.shape[0])\n",
    "    theta_cluster_dict[theta].append(normalized_accumulated_cluster_size_count)\n",
    "\n",
    "# Average the normalized data\n",
    "theta_cluster_dict = average_normalized_data(theta_cluster_dict)\n",
    "\n",
    "# Step 2: Create the 2D surface plot\n",
    "vision_cone_angles = list(theta_cluster_dict.keys())\n",
    "cluster_sizes = list(theta_cluster_dict[vision_cone_angles[0]].keys())\n",
    "relative_densities = [[theta_cluster_dict[theta][size] for size in cluster_sizes] for theta in vision_cone_angles]\n",
    "\n",
    "# Convert to 2D arrays for plotting\n",
    "X, Y = np.meshgrid(vision_cone_angles, cluster_sizes)\n",
    "Z = np.array(relative_densities)\n",
    "\n",
    "# Plot the 2D surface\n",
    "fig = plt.figure()\n",
    "ax = fig.add_subplot(111, projection='3d')\n",
    "ax.plot_surface(X, Y, Z)\n",
    "\n",
    "# Set labels and title\n",
    "ax.set_xlabel('Vision Cone Angle')\n",
    "ax.set_ylabel('Cluster Size')\n",
    "ax.set_zlabel('Relative Density')\n",
    "ax.set_title('Relative Density Surface Plot')\n",
    "\n",
    "plt.show()\n",
    "\n"
   ]
  },
  {
   "cell_type": "code",
   "execution_count": null,
   "metadata": {},
   "outputs": [],
   "source": [
    "# Extract data for the 2D histogram\n",
    "x_data = []  # Vision cone angles\n",
    "y_data = []  # Cluster sizes\n",
    "\n",
    "for folder in tqdm(filePaths):\n",
    "    data = load_data(folder)\n",
    "    particleData = np.array(data)\n",
    "    theta = float(save_param(folder)[\"theta\"])\n",
    "    accumulated_cluster_size_count = spatial_clusteral_distribution(particleData[:, :, :])\n",
    "    x_data += [theta for cluster_size, count in accumulated_cluster_size_count.items() for _ in range(count)]\n",
    "    y_data += [cluster_size for cluster_size, count in accumulated_cluster_size_count.items() for _ in range(count)]"
   ]
  },
  {
   "cell_type": "code",
   "execution_count": null,
   "metadata": {},
   "outputs": [],
   "source": [
    "# Define logarithmic bins for the y-axis and replace the first element with 0\n",
    "# y_bins = np.logspace(0, np.log10(max(y_data)), num=100)\n",
    "# y_bins[0]=0\n",
    "\n",
    "# plt.hist2d(x_data, y_data, bins=[15, y_bins], cmap='viridis', norm=\"log\")\n",
    "y_bins = list(range(0, 10)) + list(range(10, 100, 10)) + list(range(100, 625, 25))\n",
    "plt.hist2d(x_data, y_data, bins=[15, 40], cmap='viridis', norm=\"log\")\n",
    "#make the baackground black\n",
    "plt.gca().set_facecolor('black')\n",
    "plt.xlabel('Vision Cone Angle')\n",
    "plt.ylabel('Cluster Size')\n",
    "plt.title('2D Histogram of Cluster Sizes vs Vision Cone Angles')\n",
    "# plt.yscale('log')\n",
    "\n",
    "# Show colorbar\n",
    "plt.colorbar(label='Cluster Frequency')\n",
    "\n",
    "plt.show()"
   ]
  },
  {
   "cell_type": "code",
   "execution_count": null,
   "metadata": {},
   "outputs": [],
   "source": [
    "# Create a new figure and axis with 3D projection\n",
    "fig = plt.figure()\n",
    "ax = fig.add_subplot(111, projection='3d')\n",
    "\n",
    "# Create 2D histogram with logarithmic bins and transparency\n",
    "hist, x_edges, y_edges = np.histogram2d(x_data, y_data, bins=[15, 40], density=True)\n",
    "x_centers = (x_edges[:-1] + x_edges[1:]) / 2\n",
    "y_centers = (y_edges[:-1] + y_edges[1:]) / 2\n",
    "x_mesh, y_mesh = np.meshgrid(x_centers, y_centers)\n",
    "ax.plot_surface(x_mesh, y_mesh, hist.T, cmap='viridis', norm=\"log\", edgecolor='none')\n",
    "\n",
    "# Set background color to black\n",
    "ax.set_facecolor('black')\n",
    "\n",
    "# Set labels and title\n",
    "ax.set_xlabel('Vision Cone Angle')\n",
    "ax.set_ylabel('Cluster Size')\n",
    "ax.set_zlabel('Cluster Frequency')\n",
    "ax.set_title('3D Histogram of Cluster Sizes vs Vision Cone Angles')\n",
    "\n",
    "# Show colorbar\n",
    "plt.colorbar(ax.plot_surface(x_mesh, y_mesh, hist.T, cmap='viridis', norm=\"log\"), label='Cluster Frequency')\n",
    "\n",
    "plt.show()\n"
   ]
  },
  {
   "cell_type": "code",
   "execution_count": null,
   "metadata": {},
   "outputs": [],
   "source": [
    "# Generate random data for the histogram\n",
    "x = np.random.normal(0, 1, 1000000)\n",
    "y = np.random.normal(0, 1, 1000000)\n",
    "\n",
    "# Create a 2D histogram\n",
    "plt.hist2d(x, y, bins=300, cmap='viridis')\n",
    "\n",
    "# Add labels and title\n",
    "plt.xlabel('X-axis')\n",
    "plt.ylabel('Y-axis')\n",
    "plt.title('2D Histogram')\n",
    "\n",
    "# Add a colorbar to show the mapping of values to colors\n",
    "plt.colorbar(label='Counts')\n",
    "\n",
    "# Show the plot\n",
    "plt.show()\n"
   ]
  }
 ],
 "metadata": {
  "kernelspec": {
   "display_name": "Python 3",
   "language": "python",
   "name": "python3"
  },
  "language_info": {
   "codemirror_mode": {
    "name": "ipython",
    "version": 3
   },
   "file_extension": ".py",
   "mimetype": "text/x-python",
   "name": "python",
   "nbconvert_exporter": "python",
   "pygments_lexer": "ipython3",
   "version": "3.12.3"
  },
  "orig_nbformat": 4
 },
 "nbformat": 4,
 "nbformat_minor": 2
}
