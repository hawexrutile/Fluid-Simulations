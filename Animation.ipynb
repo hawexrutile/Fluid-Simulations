{
 "cells": [
  {
   "cell_type": "code",
   "execution_count": 1,
   "metadata": {},
   "outputs": [],
   "source": [
    "import json\n",
    "import numpy as np\n",
    "import matplotlib.pyplot as plt\n",
    "from matplotlib.animation import FuncAnimation\n",
    "import argparse\n",
    "import os\n",
    "import plotly.graph_objects as go\n",
    "import plotly.io as pio\n",
    "from time import sleep"
   ]
  },
  {
   "cell_type": "markdown",
   "metadata": {},
   "source": [
    "# Parameters"
   ]
  },
  {
   "cell_type": "code",
   "execution_count": 2,
   "metadata": {},
   "outputs": [],
   "source": [
    "box_size=50.0\n",
    "r=0.5\n",
    "dataCompression=500.0\n",
    "numSteps=100000.0\n",
    "timestep=0.001"
   ]
  },
  {
   "cell_type": "markdown",
   "metadata": {},
   "source": [
    "# Load Data"
   ]
  },
  {
   "cell_type": "code",
   "execution_count": 3,
   "metadata": {},
   "outputs": [],
   "source": [
    "# Load the JSON file\n",
    "with open('particle_positions.json', 'r') as file:\n",
    "    data = json.load(file)\n",
    "\n",
    "# Convert the data to a NumPy array\n",
    "particle_positions = np.array(data)"
   ]
  },
  {
   "cell_type": "markdown",
   "metadata": {},
   "source": [
    "### Plot Energy"
   ]
  },
  {
   "cell_type": "code",
   "execution_count": 4,
   "metadata": {},
   "outputs": [],
   "source": [
    "def energy_plotly_plotter(xlabel, ylabel, legend_names, colors):\n",
    "    # Read data from the file\n",
    "    \n",
    "    # Load the JSON file\n",
    "    with open('particle_positions.json', 'r') as file:\n",
    "        data = json.load(file)\n",
    "\n",
    "    # Convert the data to a NumPy array\n",
    "    particle_positions = np.array(data)\n",
    "\n",
    "    time = []\n",
    "    kinetic_energy = []\n",
    "    potential_energy = []\n",
    "    total_energy = []\n",
    "\n",
    "    for t in range(len(particle_positions)):\n",
    "        time.append(float(t)*dataCompression*timestep)\n",
    "        kinetic_energy_total=0.0\n",
    "        i=0\n",
    "        for x, y ,vx ,vy , phi, PE in particle_positions[t]:\n",
    "            kinetic_energy_total+=(float(0.5 * (vx**2 + vy**2)))\n",
    "            if i==len(particle_positions[0])-1:\n",
    "                potential_energy_per_particle=float(PE)\n",
    "                kinetic_energy_per_particle=kinetic_energy_total/float(len(particle_positions[0]))\n",
    "            i+=1\n",
    "        potential_energy.append(potential_energy_per_particle)\n",
    "        kinetic_energy.append(kinetic_energy_per_particle)\n",
    "        total_energy.append(potential_energy_per_particle+kinetic_energy_per_particle)\n",
    "\n",
    "    # Create Plotly figure\n",
    "    fig = go.Figure()\n",
    "\n",
    "    fig.add_trace(go.Scatter(x=time, y=kinetic_energy, mode='lines', name=legend_names[0], line=dict(color=colors[0])))\n",
    "    fig.add_trace(go.Scatter(x=time, y=potential_energy, mode='lines', name=legend_names[1], line=dict(color=colors[1])))\n",
    "    fig.add_trace(go.Scatter(x=time, y=total_energy, mode='lines', name=legend_names[2], line=dict(color=colors[2])))\n",
    "\n",
    "    fig.update_layout(title=\"Energy Plot\", xaxis_title=xlabel, yaxis_title=ylabel, width=1200, height=600)\n",
    "\n",
    "    # Save or show the plot\n",
    "    # pio.write_image(fig, 'tempi.png')\n",
    "    pio.write_html(fig, 'tempi.html')\n"
   ]
  },
  {
   "cell_type": "code",
   "execution_count": null,
   "metadata": {},
   "outputs": [],
   "source": [
    "# Save the plot as PNG\n",
    "f=0\n",
    "legend_names = [\"Kinetic Energy\", \"Potential Energy\", \"Total Energy\"]\n",
    "colors = ['blue', 'green', 'red']\n",
    "while True:\n",
    "        energy_plotly_plotter(\"Time\", \"Energy per Particle\", legend_names, colors)\n",
    "        if f<1:\n",
    "            os.system(f\"start {os.getcwd()}/tempi.html\")\n",
    "        f+=1\n",
    "        sleep(10) #change to increase delay"
   ]
  },
  {
   "cell_type": "markdown",
   "metadata": {},
   "source": [
    "### Final Frame Plotter"
   ]
  },
  {
   "cell_type": "code",
   "execution_count": null,
   "metadata": {},
   "outputs": [],
   "source": [
    "# Create a figure and axis for the Plot\n",
    "fig, ax = plt.subplots()\n",
    "# Set the axis limits based on your particle box size\n",
    "ax.set_xlim(0, box_size)\n",
    "ax.set_ylim(0, box_size)\n",
    "\n",
    "def FinalSysImagePlotter():\n",
    "    ax.clear()\n",
    "    ax.set_xlim(0, box_size)\n",
    "    ax.set_ylim(0, box_size)\n",
    "    \n",
    "    for x, y ,vx ,vy , phi, PE in particle_positions[-1]:\n",
    "        circle = plt.Circle((x, y), radius=r, linewidth=0)\n",
    "        ax.add_patch(circle)\n",
    "    \n",
    "    # Add an arrow to represent the direction of movement\n",
    "        arrow = plt.Arrow(x, y, vx, vy, width=0.1, color='red')\n",
    "        ax.add_patch(arrow)\n",
    "        \n",
    "    # Add an arrow to represent the direction of movement\n",
    "        arrow = plt.Arrow(x, y, np.cos(phi), np.sin(phi), width=0.1, color='green')\n",
    "        ax.add_patch(arrow)\n",
    "    \n",
    "    # Set axis labels and title\n",
    "    plt.xlabel('X-coordinate')\n",
    "    plt.ylabel('Y-coordinate')\n",
    "    plt.title('Final Image of System')\n",
    "    \n",
    "    # Show the plot\n",
    "    plt.show()\n",
    "    plt.savefig(\"FinalFrame.png\")\n",
    "\n",
    "#Plots the final system image\n",
    "FinalSysImagePlotter()"
   ]
  },
  {
   "cell_type": "markdown",
   "metadata": {},
   "source": [
    "### Animation"
   ]
  },
  {
   "cell_type": "code",
   "execution_count": null,
   "metadata": {},
   "outputs": [],
   "source": [
    "# Create a figure and axis for the animation\n",
    "fig, ax = plt.subplots()\n",
    "# Set the axis limits based on your particle box size\n",
    "ax.set_xlim(0, box_size)\n",
    "ax.set_ylim(0, box_size)\n",
    "\n",
    "# Function to update the animation\n",
    "def update(frame):\n",
    "    ax.clear()\n",
    "    ax.set_xlim(0, box_size)\n",
    "    ax.set_ylim(0, box_size)\n",
    "\n",
    "    # Plot the particles at the given frame as circles\n",
    "    for x, y , vx, vy, phi, PE in particle_positions[frame]:\n",
    "        circle = plt.Circle((x, y), radius=r, linewidth=0)\n",
    "        ax.add_patch(circle)\n",
    "        \n",
    "    # Add an arrow to represent the direction of movement\n",
    "        arrow = plt.Arrow(x, y, vx, vy, width=0.1, color='red')\n",
    "        ax.add_patch(arrow)\n",
    "\n",
    "    # Add an arrow to represent the direction of movement\n",
    "        arrow = plt.Arrow(x, y, np.cos(phi), np.sin(phi), width=0.1, color='green')\n",
    "        ax.add_patch(arrow)\n",
    "\n",
    "# Create the animation\n",
    "animation = FuncAnimation(fig, update, frames=len(particle_positions), interval=100)\n",
    "\n",
    "# Save the animation as a GIF\n",
    "# animation.save('particle_animation.gif', writer='pillow')  # For GIF\n",
    "# Save the animation as a video\n",
    "animation.save('particle_animation.mp4', writer='ffmpeg')  # For MP4\n"
   ]
  },
  {
   "cell_type": "markdown",
   "metadata": {},
   "source": [
    "### Vis Py"
   ]
  },
  {
   "cell_type": "code",
   "execution_count": null,
   "metadata": {},
   "outputs": [],
   "source": [
    "import numpy as np\n",
    "from vispy import scene, app\n",
    "\n",
    "# Create a canvas\n",
    "canvas = scene.SceneCanvas(keys='interactive', bgcolor='white', show=True)\n",
    "\n",
    "# Create a view\n",
    "view = canvas.central_widget.add_view()\n",
    "\n",
    "# Set the view limits based on your particle box size\n",
    "box_size = 10  # Adjust this to match your particle box size\n",
    "view.camera.set_range(x=(0, box_size), y=(0, box_size))\n",
    "\n",
    "# Create a scatter plot to represent particles\n",
    "particles = scene.Markers()\n",
    "view.add(particles)\n",
    "\n",
    "# Function to update the animation\n",
    "def update(frame):\n",
    "    positions = particle_positions[frame]  # Replace with your particle data for the frame\n",
    "    \n",
    "    # Update the particle positions\n",
    "    particles.set_data(positions[:, :2], face_color='blue', edge_color=None, size=5)\n",
    "    \n",
    "    # Clear the canvas\n",
    "    canvas.update()\n",
    "\n",
    "# Create the animation\n",
    "animation = app.Timer(connect=update, start=False)\n",
    "\n",
    "# Save the animation as a GIF\n",
    "# animation.save('particle_animation.gif', writer='pillow')  # VisPy doesn't natively support GIF export\n",
    "\n",
    "# Start the animation (you can stop it with animation.stop())\n",
    "animation.start()\n",
    "\n",
    "if __name__ == '__main__':\n",
    "    app.run()\n"
   ]
  }
 ],
 "metadata": {
  "kernelspec": {
   "display_name": "Python 3",
   "language": "python",
   "name": "python3"
  },
  "language_info": {
   "codemirror_mode": {
    "name": "ipython",
    "version": 3
   },
   "file_extension": ".py",
   "mimetype": "text/x-python",
   "name": "python",
   "nbconvert_exporter": "python",
   "pygments_lexer": "ipython3",
   "version": "3.11.4"
  },
  "orig_nbformat": 4
 },
 "nbformat": 4,
 "nbformat_minor": 2
}
