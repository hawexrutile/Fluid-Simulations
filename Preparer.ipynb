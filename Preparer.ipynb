{
 "cells": [
  {
   "cell_type": "code",
   "execution_count": 1,
   "metadata": {},
   "outputs": [],
   "source": [
    "import os\n",
    "import csv\n",
    "import math\n",
    "import json\n",
    "import numpy as np\n",
    "import matplotlib.pyplot as plt"
   ]
  },
  {
   "cell_type": "markdown",
   "metadata": {},
   "source": [
    "# Param Calculator"
   ]
  },
  {
   "cell_type": "code",
   "execution_count": null,
   "metadata": {},
   "outputs": [],
   "source": [
    "# ANCHOR after running this run the next two cells\n",
    "epsilon = 1.0;           \n",
    "sigma = 1.0;                 \n",
    "numParticles = 625;                       \n",
    "temperature = 1.0;              \n",
    "tau=math.sqrt(sigma*sigma/temperature)\n",
    "gamma=100/tau\n",
    "DR=0.08/tau\n",
    "DT= temperature/gamma\n",
    "Pe=(epsilon/temperature)-1\n",
    "v=Pe * DT / sigma\n",
    "# packingFraction = 0.0785\n",
    "# boxSize = math.sqrt((numParticles*math.pi*(sigma/2)*(sigma/2))/packingFraction);\n",
    "boxSize = 79;\n",
    "packingFraction = (numParticles*math.pi*(sigma/2)*(sigma/2))/(boxSize**2);\n",
    "#print all the variables\n",
    "print (\"epsilon = \", epsilon)\n",
    "print (\"sigma = \", sigma)\n",
    "print (\"numParticles = \", numParticles)\n",
    "print (\"boxSize = \", boxSize)\n",
    "print (\"temperature = \", temperature)\n",
    "print (\"gamma = \", gamma)\n",
    "print (\"tau = \", tau)\n",
    "print (\"DR = \", DR)\n",
    "print (\"DT = \", DT)\n",
    "print (\"Pe = \", Pe)\n",
    "print (\"v = \", v)\n",
    "print (\"packingFraction = \", packingFraction)\n",
    "# 25 79 250"
   ]
  },
  {
   "cell_type": "markdown",
   "metadata": {},
   "source": [
    "# Folder Renamer"
   ]
  },
  {
   "cell_type": "code",
   "execution_count": null,
   "metadata": {},
   "outputs": [],
   "source": [
    "def get_new_folder_name(params):\n",
    "    # Construct the new folder name based on the specified format\n",
    "    new_name = f\"B{int(float(params['boxSize']))}S{float(params['numSteps']) // 1000000}D{float(params['dataCompression']) // 10000}M{params['theta']}\"\n",
    "    return new_name\n",
    "\n",
    "def rename_folders(parent_folder):\n",
    "    subfolders = [f.path for f in os.scandir(parent_folder) if f.is_dir()]\n",
    "\n",
    "    for folder in subfolders:\n",
    "        params_file = os.path.join(folder, 'params.csv')\n",
    "\n",
    "        if os.path.exists(params_file):\n",
    "            with open(params_file, 'r') as csvfile:\n",
    "                reader = csv.reader(csvfile)\n",
    "                params = dict(reader)\n",
    "\n",
    "                new_folder_name = get_new_folder_name(params)\n",
    "\n",
    "                # Handle cases where the folder name already exists\n",
    "                count = 1\n",
    "                while os.path.exists(os.path.join(parent_folder, new_folder_name)):\n",
    "                    new_folder_name = f\"{get_new_folder_name(params)}({count})\"\n",
    "                    count += 1\n",
    "\n",
    "                new_folder_path = os.path.join(parent_folder, new_folder_name)\n",
    "            os.rename(folder, new_folder_path)\n",
    "            print(f\"Renamed {folder} to {new_folder_name}\")\n",
    "\n",
    "\n",
    "parent_folder_path = r\"Runs\\Low Density\\DualRunPassive\\D0.5Run\"\n",
    "rename_folders(parent_folder_path)"
   ]
  },
  {
   "cell_type": "markdown",
   "metadata": {},
   "source": [
    "# JSON-DAT convertor"
   ]
  },
  {
   "cell_type": "code",
   "execution_count": 6,
   "metadata": {},
   "outputs": [],
   "source": [
    "path=r\"Wed_Jan_10_19_50_55_2024/\"\n",
    "def save_param(path):\n",
    "    csv_file_path=path+\"params.csv\"\n",
    "    # Open the CSV file\n",
    "    with open(csv_file_path, mode='r') as infile:\n",
    "        reader = csv.reader(infile)\n",
    "        mydict = {rows[0]:rows[1] for rows in reader}\n",
    "    return mydict\n",
    "#takes in a json file as an numpy array\n",
    "def load_data(path):\n",
    "    with open(path+'particle_positions.json', 'r') as file:\n",
    "        data = json.load(file)\n",
    "    return data\n",
    "variable_dict=save_param(path)\n",
    "data = load_data(path)\n",
    "particle_data = np.array(data)\n",
    "positions = particle_data[:, :, :2]\n",
    "boxSize=float(variable_dict[\"boxSize\"])"
   ]
  },
  {
   "cell_type": "code",
   "execution_count": 8,
   "metadata": {},
   "outputs": [],
   "source": [
    "# create a dat file for the positions by stacking the x and y coordinates for each particle in a row.\n",
    "def create_dat_file(positions, box_size):\n",
    "    for j in range(1, positions.shape[0]):\n",
    "        d = positions[j, :] - positions[j-1, :]\n",
    "        positions[j, :] -= np.round(d / box_size) * box_size\n",
    "    # the first column is a serial number the second column is the x coordinate of the particles, the third column is the y coordinate of the particles\n",
    "    positions = positions.reshape((positions.shape[0]*positions.shape[1],positions.shape[2]))\n",
    "    # add the serial number as intger\n",
    "    positions = np.column_stack((np.arange(1, positions.shape[0]+1, dtype=int), positions))\n",
    "    np.savetxt(path + 'positions2.dat', positions, fmt=['%d', '%.6f', '%.6f'])\n",
    "create_dat_file(positions,boxSize)"
   ]
  }
 ],
 "metadata": {
  "kernelspec": {
   "display_name": "Python 3",
   "language": "python",
   "name": "python3"
  },
  "language_info": {
   "codemirror_mode": {
    "name": "ipython",
    "version": 3
   },
   "file_extension": ".py",
   "mimetype": "text/x-python",
   "name": "python",
   "nbconvert_exporter": "python",
   "pygments_lexer": "ipython3",
   "version": "3.12.1"
  }
 },
 "nbformat": 4,
 "nbformat_minor": 2
}
